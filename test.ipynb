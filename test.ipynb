{
 "cells": [
  {
   "cell_type": "code",
   "execution_count": 1,
   "metadata": {
    "collapsed": true
   },
   "outputs": [
    {
     "name": "stdout",
     "output_type": "stream",
     "text": [
      "hello\n"
     ]
    }
   ],
   "source": [
    "print('hello')"
   ]
  },
  {
   "cell_type": "code",
   "execution_count": 2,
   "metadata": {},
   "outputs": [],
   "source": [
    "import pymongo\n",
    "client = pymongo.MongoClient('localhost', 27017)\n",
    "bigbigwork = client['bigbigwork']\n",
    "alls = bigbigwork['alls']"
   ]
  },
  {
   "cell_type": "code",
   "execution_count": 3,
   "metadata": {},
   "outputs": [
    {
     "data": {
      "text/plain": [
       "1000"
      ]
     },
     "execution_count": 3,
     "metadata": {},
     "output_type": "execute_result"
    }
   ],
   "source": [
    "alls.find().count()"
   ]
  },
  {
   "cell_type": "code",
   "execution_count": 4,
   "metadata": {
    "collapsed": true
   },
   "outputs": [
    {
     "name": "stdout",
     "output_type": "stream",
     "text": [
      "https://cdn.pixabay.com/photo/2018/03/18/07/05/panda-3235912__480.jpg\nhttps://cdn.pixabay.com/photo/2017/12/01/16/14/cinnamon-stars-2991174__480.jpg\nhttps://cdn.pixabay.com/photo/2018/03/21/22/36/brick-wall-3248559__480.jpg\nhttps://cdn.pixabay.com/photo/2018/03/18/18/06/miniature-3237735__480.jpg\nhttps://cdn.pixabay.com/photo/2018/03/22/10/13/retro-3249927__480.jpg\nhttps://cdn.pixabay.com/photo/2018/03/22/10/23/alone-3249953__480.jpg\nhttps://cdn.pixabay.com/photo/2017/05/12/08/29/coffee-2306471__480.jpg\nhttps://cdn.pixabay.com/photo/2018/03/22/10/13/pattern-3249930__480.jpg\nhttps://cdn.pixabay.com/photo/2018/03/17/15/30/dog-3234285__480.png\nhttps://cdn.pixabay.com/photo/2017/11/06/23/19/composing-2925179__480.jpg\nhttps://cdn.pixabay.com/photo/2018/03/19/20/29/dog-3241137__480.jpg\nhttps://cdn.pixabay.com/photo/2018/03/17/12/43/rose-3233903__480.jpg\nhttps://cdn.pixabay.com/photo/2018/03/20/09/49/drink-3242673__480.jpg\nhttps://cdn.pixabay.com/photo/2017/09/25/15/32/anise-2785512__480.jpg\nhttps://cdn.pixabay.com/photo/2018/03/06/19/26/equine-3204312__480.jpg\nhttps://cdn.pixabay.com/photo/2018/03/14/19/20/horse-3226110__480.jpg\nhttps://cdn.pixabay.com/photo/2017/10/08/17/22/cello-2830670__480.jpg\nhttps://cdn.pixabay.com/photo/2018/03/23/17/08/pencil-3254282__480.jpg\nhttps://cdn.pixabay.com/photo/2018/03/23/10/47/wood-3253358__480.jpg\nhttps://cdn.pixabay.com/photo/2018/03/11/17/22/cat-3217406__480.jpg\n"
     ]
    }
   ],
   "source": [
    "for i in alls.find().limit(20):\n",
    "    print(i.get('url'))"
   ]
  },
  {
   "cell_type": "code",
   "execution_count": null,
   "metadata": {},
   "outputs": [],
   "source": []
  }
 ],
 "metadata": {
  "kernelspec": {
   "display_name": "Python 2",
   "language": "python",
   "name": "python2"
  },
  "language_info": {
   "codemirror_mode": {
    "name": "ipython",
    "version": 2
   },
   "file_extension": ".py",
   "mimetype": "text/x-python",
   "name": "python",
   "nbconvert_exporter": "python",
   "pygments_lexer": "ipython2",
   "version": "2.7.6"
  }
 },
 "nbformat": 4,
 "nbformat_minor": 0
}
